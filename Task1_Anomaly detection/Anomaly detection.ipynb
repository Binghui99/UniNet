{
 "cells": [
  {
   "cell_type": "code",
   "execution_count": 1,
   "id": "2c014f52-28ef-4381-a299-09967298a5e4",
   "metadata": {},
   "outputs": [
    {
     "name": "stdout",
     "output_type": "stream",
     "text": [
      "Tue Jul  2 13:19:12 2024       \n",
      "+---------------------------------------------------------------------------------------+\n",
      "| NVIDIA-SMI 535.183.01             Driver Version: 535.183.01   CUDA Version: 12.2     |\n",
      "|-----------------------------------------+----------------------+----------------------+\n",
      "| GPU  Name                 Persistence-M | Bus-Id        Disp.A | Volatile Uncorr. ECC |\n",
      "| Fan  Temp   Perf          Pwr:Usage/Cap |         Memory-Usage | GPU-Util  Compute M. |\n",
      "|                                         |                      |               MIG M. |\n",
      "|=========================================+======================+======================|\n",
      "|   0  NVIDIA GeForce RTX 4080        Off | 00000000:01:00.0  On |                  N/A |\n",
      "|  0%   39C    P8               7W / 320W |    333MiB / 16376MiB |      0%      Default |\n",
      "|                                         |                      |                  N/A |\n",
      "+-----------------------------------------+----------------------+----------------------+\n",
      "                                                                                         \n",
      "+---------------------------------------------------------------------------------------+\n",
      "| Processes:                                                                            |\n",
      "|  GPU   GI   CI        PID   Type   Process name                            GPU Memory |\n",
      "|        ID   ID                                                             Usage      |\n",
      "|=======================================================================================|\n",
      "|    0   N/A  N/A      1865      G   /usr/lib/xorg/Xorg                          124MiB |\n",
      "|    0   N/A  N/A      2065      G   /usr/bin/gnome-shell                         90MiB |\n",
      "|    0   N/A  N/A      3871      G   ...seed-version=20240701-180127.641000      108MiB |\n",
      "+---------------------------------------------------------------------------------------+\n"
     ]
    }
   ],
   "source": [
    "import torch\n",
    "import torch.nn as nn\n",
    "import pandas as pd\n",
    "import numpy as np\n",
    "import torch.nn.functional as F\n",
    "import matplotlib.pyplot as plt\n",
    "from torch import Tensor\n",
    "from torchsummary import summary\n",
    "import random\n",
    "from numpy import load\n",
    "from tqdm import tqdm, trange\n",
    "from torch.nn import CrossEntropyLoss\n",
    "from torch.optim import Adam\n",
    "from torch.utils.data import Dataset, DataLoader\n",
    "import pickle\n",
    "import os\n",
    "\n",
    "os.environ['CUDA_LAUNCH_BLOCKING'] = \"1\"\n",
    "%run './Attention_based_model.ipynb'"
   ]
  },
  {
   "cell_type": "code",
   "execution_count": 2,
   "id": "d6e597af-9271-4573-ad1e-002e52fc4ba8",
   "metadata": {},
   "outputs": [
    {
     "name": "stdout",
     "output_type": "stream",
     "text": [
      "Using device:  cuda (NVIDIA GeForce RTX 4080)\n"
     ]
    }
   ],
   "source": [
    "# check the availability of cuda\n",
    "device = torch.device(\"cuda\" if torch.cuda.is_available() else \"cpu\")\n",
    "print(\"Using device: \", device, f\"({torch.cuda.get_device_name(device)})\" if torch.cuda.is_available() else \"\")"
   ]
  },
  {
   "cell_type": "code",
   "execution_count": 3,
   "id": "671978d8-e6be-4688-a131-0fbd7c8651b1",
   "metadata": {},
   "outputs": [],
   "source": [
    "with open('./new_dataset/CIC2018-dataset-all-benign-1000.pkl', 'rb') as f:\n",
    "    train_data = pickle.load(f)  \n",
    "train_loader = DataLoader(train_data, batch_size=9, shuffle=True, pin_memory=True)"
   ]
  },
  {
   "cell_type": "code",
   "execution_count": 4,
   "id": "aba94c2f-04cb-4110-bf55-e0a121c8b1d8",
   "metadata": {},
   "outputs": [
    {
     "name": "stdout",
     "output_type": "stream",
     "text": [
      "Total Parameters: 24270\n"
     ]
    },
    {
     "name": "stderr",
     "output_type": "stream",
     "text": [
      "EP_train:0:   0%|| 4/841 [00:00<01:26,  9.67it/s]"
     ]
    },
    {
     "name": "stdout",
     "output_type": "stream",
     "text": [
      "{'epoch': 0, 'iter': 0, 'loss': 7.342679023742676}\n"
     ]
    },
    {
     "name": "stderr",
     "output_type": "stream",
     "text": [
      "EP_train:0:  60%|| 505/841 [00:22<00:14, 23.01it/s]"
     ]
    },
    {
     "name": "stdout",
     "output_type": "stream",
     "text": [
      "{'epoch': 0, 'iter': 500, 'loss': 0.9114945530891418}\n"
     ]
    },
    {
     "name": "stderr",
     "output_type": "stream",
     "text": [
      "EP_train:0: 100%|| 841/841 [00:36<00:00, 22.76it/s]\n",
      "EP_train:1:   0%|| 3/841 [00:00<00:36, 22.92it/s]"
     ]
    },
    {
     "name": "stdout",
     "output_type": "stream",
     "text": [
      "{'epoch': 1, 'iter': 0, 'loss': 1.0325312614440918}\n"
     ]
    },
    {
     "name": "stderr",
     "output_type": "stream",
     "text": [
      "EP_train:1:  60%|| 504/841 [00:21<00:14, 23.07it/s]"
     ]
    },
    {
     "name": "stdout",
     "output_type": "stream",
     "text": [
      "{'epoch': 1, 'iter': 500, 'loss': 0.6877236366271973}\n"
     ]
    },
    {
     "name": "stderr",
     "output_type": "stream",
     "text": [
      "EP_train:1: 100%|| 841/841 [00:36<00:00, 23.08it/s]\n",
      "EP_train:2:   0%|| 3/841 [00:00<00:36, 22.78it/s]"
     ]
    },
    {
     "name": "stdout",
     "output_type": "stream",
     "text": [
      "{'epoch': 2, 'iter': 0, 'loss': 0.9687013030052185}\n"
     ]
    },
    {
     "name": "stderr",
     "output_type": "stream",
     "text": [
      "EP_train:2:  60%|| 504/841 [00:21<00:14, 22.99it/s]"
     ]
    },
    {
     "name": "stdout",
     "output_type": "stream",
     "text": [
      "{'epoch': 2, 'iter': 500, 'loss': 0.8537077903747559}\n"
     ]
    },
    {
     "name": "stderr",
     "output_type": "stream",
     "text": [
      "EP_train:2: 100%|| 841/841 [00:36<00:00, 23.10it/s]\n",
      "EP_train:3:   0%|| 3/841 [00:00<00:37, 22.59it/s]"
     ]
    },
    {
     "name": "stdout",
     "output_type": "stream",
     "text": [
      "{'epoch': 3, 'iter': 0, 'loss': 1.177020788192749}\n"
     ]
    },
    {
     "name": "stderr",
     "output_type": "stream",
     "text": [
      "EP_train:3:  60%|| 504/841 [00:21<00:14, 22.98it/s]"
     ]
    },
    {
     "name": "stdout",
     "output_type": "stream",
     "text": [
      "{'epoch': 3, 'iter': 500, 'loss': 0.7371529936790466}\n"
     ]
    },
    {
     "name": "stderr",
     "output_type": "stream",
     "text": [
      "EP_train:3: 100%|| 841/841 [00:36<00:00, 23.10it/s]\n",
      "EP_train:4:   0%|| 3/841 [00:00<00:36, 22.90it/s]"
     ]
    },
    {
     "name": "stdout",
     "output_type": "stream",
     "text": [
      "{'epoch': 4, 'iter': 0, 'loss': 1.062574028968811}\n"
     ]
    },
    {
     "name": "stderr",
     "output_type": "stream",
     "text": [
      "EP_train:4:  60%|| 504/841 [00:21<00:14, 23.08it/s]"
     ]
    },
    {
     "name": "stdout",
     "output_type": "stream",
     "text": [
      "{'epoch': 4, 'iter': 500, 'loss': 0.7294909954071045}\n"
     ]
    },
    {
     "name": "stderr",
     "output_type": "stream",
     "text": [
      "EP_train:4: 100%|| 841/841 [00:36<00:00, 23.06it/s]\n",
      "EP_train:5:   0%|| 3/841 [00:00<00:36, 22.95it/s]"
     ]
    },
    {
     "name": "stdout",
     "output_type": "stream",
     "text": [
      "{'epoch': 5, 'iter': 0, 'loss': 0.9048265814781189}\n"
     ]
    },
    {
     "name": "stderr",
     "output_type": "stream",
     "text": [
      "EP_train:5:  60%|| 504/841 [00:21<00:14, 23.05it/s]"
     ]
    },
    {
     "name": "stdout",
     "output_type": "stream",
     "text": [
      "{'epoch': 5, 'iter': 500, 'loss': 0.8989659547805786}\n"
     ]
    },
    {
     "name": "stderr",
     "output_type": "stream",
     "text": [
      "EP_train:5: 100%|| 841/841 [00:36<00:00, 23.09it/s]\n",
      "EP_train:6:   0%|| 3/841 [00:00<00:36, 22.71it/s]"
     ]
    },
    {
     "name": "stdout",
     "output_type": "stream",
     "text": [
      "{'epoch': 6, 'iter': 0, 'loss': 0.9913702011108398}\n"
     ]
    },
    {
     "name": "stderr",
     "output_type": "stream",
     "text": [
      "EP_train:6:  60%|| 504/841 [00:21<00:15, 21.86it/s]"
     ]
    },
    {
     "name": "stdout",
     "output_type": "stream",
     "text": [
      "{'epoch': 6, 'iter': 500, 'loss': 0.9598228335380554}\n"
     ]
    },
    {
     "name": "stderr",
     "output_type": "stream",
     "text": [
      "EP_train:6: 100%|| 841/841 [00:36<00:00, 22.77it/s]\n",
      "EP_train:7:   0%|| 3/841 [00:00<00:37, 22.26it/s]"
     ]
    },
    {
     "name": "stdout",
     "output_type": "stream",
     "text": [
      "{'epoch': 7, 'iter': 0, 'loss': 0.6942890882492065}\n"
     ]
    },
    {
     "name": "stderr",
     "output_type": "stream",
     "text": [
      "EP_train:7:  60%|| 504/841 [00:22<00:14, 22.88it/s]"
     ]
    },
    {
     "name": "stdout",
     "output_type": "stream",
     "text": [
      "{'epoch': 7, 'iter': 500, 'loss': 0.9279880523681641}\n"
     ]
    },
    {
     "name": "stderr",
     "output_type": "stream",
     "text": [
      "EP_train:7: 100%|| 841/841 [00:37<00:00, 22.50it/s]\n",
      "EP_train:8:   0%|| 3/841 [00:00<00:39, 21.37it/s]"
     ]
    },
    {
     "name": "stdout",
     "output_type": "stream",
     "text": [
      "{'epoch': 8, 'iter': 0, 'loss': 0.9077761173248291}\n"
     ]
    },
    {
     "name": "stderr",
     "output_type": "stream",
     "text": [
      "EP_train:8:  60%|| 504/841 [00:22<00:15, 22.45it/s]"
     ]
    },
    {
     "name": "stdout",
     "output_type": "stream",
     "text": [
      "{'epoch': 8, 'iter': 500, 'loss': 0.6966851949691772}\n"
     ]
    },
    {
     "name": "stderr",
     "output_type": "stream",
     "text": [
      "EP_train:8: 100%|| 841/841 [00:37<00:00, 22.25it/s]\n"
     ]
    }
   ],
   "source": [
    "# device = 'cpu'\n",
    "NetFormer_model = NetFormer(\n",
    "  feature_size = 1030,\n",
    "  d_model=10,\n",
    "  n_layers=2,\n",
    "  heads=10,\n",
    "  dropout=0.1\n",
    ").to(device)\n",
    "\n",
    "\n",
    "# NetFormer_model.to(device)\n",
    "net_lm = Unsupervised_NetFormerLM(NetFormer_model, feature_size=1030).to(device)\n",
    "# bert_lm.to(device)\n",
    "\n",
    "net_trainer = NetformerTrainer(net_lm, train_loader,device = 'cuda')\n",
    "epochs = 9\n",
    "\n",
    "for epoch in range(epochs):\n",
    "  net_trainer.train(epoch)"
   ]
  },
  {
   "cell_type": "code",
   "execution_count": 5,
   "id": "ee1c70e1-1802-4a38-b876-3cb1fff43b81",
   "metadata": {},
   "outputs": [
    {
     "name": "stderr",
     "output_type": "stream",
     "text": [
      "100%|| 841/841 [00:12<00:00, 65.10it/s]\n"
     ]
    },
    {
     "name": "stdout",
     "output_type": "stream",
     "text": [
      "Data points shape: (7565, 1000, 10)\n",
      "Labels shape: (7565,)\n"
     ]
    }
   ],
   "source": [
    "# Assuming net_lm is your trained model\n",
    "net_lm.eval()  # Set the model to evaluation mode\n",
    "\n",
    "# Initialize lists to store outputs and labels\n",
    "data_points = []\n",
    "labels = []\n",
    "\n",
    "with torch.no_grad():\n",
    "    # progress bar\n",
    "    data_iter = tqdm.tqdm(\n",
    "        enumerate(train_loader),\n",
    "        total=len(train_loader),\n",
    "        bar_format=\"{l_bar}{r_bar}\"\n",
    "    )\n",
    "    for i, data in data_iter:  # Assuming you have an inference data loader\n",
    "        data = {key: value.to(device) for key, value in data.items()}\n",
    "        inputs, segment_info, label = data[\"netformer_input\"], data[\"segment_label\"], data[\"sequence_label\"]\n",
    "        \n",
    "        last_layer_output = net_lm.netformer(inputs, segment_info)\n",
    "        \n",
    "        # Assuming you want to use last_layer_output\n",
    "        last_layer_output = last_layer_output.cpu().numpy()\n",
    "        # print(last_layer_output.shape)\n",
    "        label = label.cpu().numpy()\n",
    "        \n",
    "        # Collect the data points and labels\n",
    "        for j in range(last_layer_output.shape[0]):\n",
    "            data_points.append(last_layer_output[j])\n",
    "            labels.append(label[j])\n",
    "\n",
    "# Convert lists to numpy arrays\n",
    "data_points_np = np.array(data_points)\n",
    "labels_np = np.array(labels)\n",
    "\n",
    "# Optionally save to files\n",
    "np.save('data_points_benign_training.npy', data_points_np)\n",
    "np.save('labels_benign_training.npy', labels_np)\n",
    "\n",
    "# Print shapes to verify\n",
    "print('Data points shape:', data_points_np.shape)\n",
    "print('Labels shape:', labels_np.shape)"
   ]
  },
  {
   "cell_type": "code",
   "execution_count": 6,
   "id": "a8329d3a-dcb1-4613-bdb2-c71acbf10829",
   "metadata": {},
   "outputs": [],
   "source": [
    "with open('new_test_set-1000.pkl', 'rb') as f:\n",
    "    test_data = pickle.load(f)  \n",
    "test_loader = DataLoader(test_data, batch_size=16, shuffle=True, pin_memory=True)"
   ]
  },
  {
   "cell_type": "code",
   "execution_count": 7,
   "id": "c547a6f9-b8d2-4267-83e0-f2c8ddc6e0b3",
   "metadata": {},
   "outputs": [
    {
     "name": "stderr",
     "output_type": "stream",
     "text": [
      "100%|| 625/625 [00:16<00:00, 38.91it/s]\n"
     ]
    },
    {
     "name": "stdout",
     "output_type": "stream",
     "text": [
      "Data points shape: (10000, 1000, 10)\n",
      "Labels shape: (10000,)\n"
     ]
    }
   ],
   "source": [
    "# Assuming net_lm is your trained model\n",
    "net_lm.eval()  # Set the model to evaluation mode\n",
    "\n",
    "# Initialize lists to store outputs and labels\n",
    "data_points = []\n",
    "labels = []\n",
    "\n",
    "with torch.no_grad():\n",
    "    # progress bar\n",
    "    data_iter = tqdm.tqdm(\n",
    "        enumerate(test_loader),\n",
    "        total=len(test_loader),\n",
    "        bar_format=\"{l_bar}{r_bar}\"\n",
    "    )\n",
    "    for i, data in data_iter:  # Assuming you have an inference data loader\n",
    "        data = {key: value.to(device) for key, value in data.items()}\n",
    "        inputs, segment_info, label = data[\"netformer_input\"], data[\"segment_label\"], data[\"sequence_label\"]\n",
    "        \n",
    "        last_layer_output = net_lm.netformer(inputs, segment_info)\n",
    "        \n",
    "        # Assuming you want to use last_layer_output\n",
    "        last_layer_output = last_layer_output.cpu().numpy()\n",
    "        label = label.cpu().numpy()\n",
    "        \n",
    "        # Collect the data points and labels\n",
    "        for j in range(last_layer_output.shape[0]):\n",
    "            data_points.append(last_layer_output[j])\n",
    "            labels.append(label[j])\n",
    "\n",
    "# Convert lists to numpy arrays\n",
    "data_points_np = np.array(data_points)\n",
    "labels_np = np.array(labels)\n",
    "\n",
    "# Optionally save to files\n",
    "np.save('data_points_testing.npy', data_points_np)\n",
    "np.save('labels_testing.npy', labels_np)\n",
    "\n",
    "# Print shapes to verify\n",
    "print('Data points shape:', data_points_np.shape)\n",
    "print('Labels shape:', labels_np.shape)\n"
   ]
  },
  {
   "cell_type": "code",
   "execution_count": 8,
   "id": "2a83eee7-f1b3-4e4a-9646-460fe693f081",
   "metadata": {},
   "outputs": [
    {
     "data": {
      "text/plain": [
       "Counter({0.0: 5000, 1.0: 5000})"
      ]
     },
     "execution_count": 8,
     "metadata": {},
     "output_type": "execute_result"
    }
   ],
   "source": [
    "from collections import Counter\n",
    "Counter(labels_np)"
   ]
  },
  {
   "cell_type": "code",
   "execution_count": 14,
   "id": "893c8636-f572-4033-b361-195bdf50500c",
   "metadata": {},
   "outputs": [
    {
     "name": "stdout",
     "output_type": "stream",
     "text": [
      "Embeddings shape: (2000, 200, 10)\n",
      "Labels shape: (2000,)\n",
      "Flattened Embeddings shape: (2000, 2000)\n",
      "Epoch [1/50], Loss: 7.9073\n",
      "Epoch [2/50], Loss: 7.9591\n",
      "Epoch [3/50], Loss: 7.9424\n",
      "Epoch [4/50], Loss: 7.9403\n",
      "Epoch [5/50], Loss: 7.8993\n",
      "Epoch [6/50], Loss: 7.9415\n",
      "Epoch [7/50], Loss: 7.9852\n",
      "Epoch [8/50], Loss: 7.9338\n",
      "Epoch [9/50], Loss: 7.9597\n",
      "Epoch [10/50], Loss: 7.9654\n",
      "Epoch [11/50], Loss: 7.9287\n",
      "Epoch [12/50], Loss: 7.8818\n",
      "Epoch [13/50], Loss: 7.9076\n",
      "Epoch [14/50], Loss: 7.9596\n",
      "Epoch [15/50], Loss: 7.9300\n",
      "Epoch [16/50], Loss: 7.9570\n",
      "Epoch [17/50], Loss: 7.8985\n",
      "Epoch [18/50], Loss: 7.9318\n",
      "Epoch [19/50], Loss: 7.9105\n",
      "Epoch [20/50], Loss: 7.9504\n",
      "Epoch [21/50], Loss: 7.9098\n",
      "Epoch [22/50], Loss: 7.9287\n",
      "Epoch [23/50], Loss: 7.9459\n",
      "Epoch [24/50], Loss: 7.9238\n",
      "Epoch [25/50], Loss: 7.9156\n",
      "Epoch [26/50], Loss: 7.9865\n",
      "Epoch [27/50], Loss: 7.9862\n",
      "Epoch [28/50], Loss: 7.9269\n",
      "Epoch [29/50], Loss: 7.9123\n",
      "Epoch [30/50], Loss: 7.9033\n",
      "Epoch [31/50], Loss: 7.9776\n",
      "Epoch [32/50], Loss: 7.9459\n",
      "Epoch [33/50], Loss: 7.9246\n",
      "Epoch [34/50], Loss: 7.9274\n",
      "Epoch [35/50], Loss: 7.8962\n",
      "Epoch [36/50], Loss: 7.9119\n",
      "Epoch [37/50], Loss: 7.9624\n",
      "Epoch [38/50], Loss: 7.9684\n",
      "Epoch [39/50], Loss: 7.9061\n",
      "Epoch [40/50], Loss: 7.9165\n",
      "Epoch [41/50], Loss: 7.9708\n",
      "Epoch [42/50], Loss: 7.9385\n",
      "Epoch [43/50], Loss: 7.9201\n",
      "Epoch [44/50], Loss: 7.9152\n",
      "Epoch [45/50], Loss: 7.9383\n",
      "Epoch [46/50], Loss: 7.8900\n",
      "Epoch [47/50], Loss: 7.9382\n",
      "Epoch [48/50], Loss: 7.9353\n",
      "Epoch [49/50], Loss: 7.9420\n",
      "Epoch [50/50], Loss: 7.9069\n"
     ]
    },
    {
     "data": {
      "image/png": "[encoded data removed]",
      "text/plain": [
       "<Figure size 640x480 with 1 Axes>"
      ]
     },
     "metadata": {},
     "output_type": "display_data"
    },
    {
     "name": "stdout",
     "output_type": "stream",
     "text": [
      "              precision    recall  f1-score   support\n",
      "\n",
      "         0.0       0.52      0.99      0.68      1000\n",
      "         1.0       0.90      0.09      0.16      1000\n",
      "\n",
      "    accuracy                           0.54      2000\n",
      "   macro avg       0.71      0.54      0.42      2000\n",
      "weighted avg       0.71      0.54      0.42      2000\n",
      "\n",
      "[[990  10]\n",
      " [910  90]]\n",
      "ROC AUC Score: 0.6942364999999999\n"
     ]
    }
   ],
   "source": [
    "import numpy as np\n",
    "import torch\n",
    "import torch.nn as nn\n",
    "import torch.optim as optim\n",
    "from torch.utils.data import DataLoader, TensorDataset\n",
    "import matplotlib.pyplot as plt\n",
    "from sklearn.metrics import classification_report, confusion_matrix, roc_auc_score\n",
    "\n",
    "# Load the embeddings and labels\n",
    "embeddings = np.load('data_points_testing.npy')\n",
    "labels = np.load('labels_testing.npy')\n",
    "\n",
    "print('Embeddings shape:', embeddings.shape)  # Should be (3188, 2000, 10)\n",
    "print('Labels shape:', labels.shape)  # Should be (3188,)\n",
    "\n",
    "# Flatten the embeddings\n",
    "embeddings_flattened = embeddings.reshape(embeddings.shape[0], -1)\n",
    "print('Flattened Embeddings shape:', embeddings_flattened.shape)  # Should be (3188, 20000)\n",
    "\n",
    "# Define the Autoencoder architecture\n",
    "class Autoencoder(nn.Module):\n",
    "    def __init__(self, input_dim, encoding_dim):\n",
    "        super(Autoencoder, self).__init__()\n",
    "        self.encoder = nn.Sequential(\n",
    "            nn.Linear(input_dim, encoding_dim),\n",
    "            nn.ReLU(True)\n",
    "        )\n",
    "        self.decoder = nn.Sequential(\n",
    "            nn.Linear(encoding_dim, input_dim),\n",
    "            nn.Sigmoid()\n",
    "        )\n",
    "\n",
    "    def forward(self, x):\n",
    "        x = self.encoder(x)\n",
    "        x = self.decoder(x)\n",
    "        return x\n",
    "\n",
    "input_dim = embeddings_flattened.shape[1]\n",
    "encoding_dim = 256  # Adjust based on your needs\n",
    "\n",
    "autoencoder = Autoencoder(input_dim, encoding_dim)\n",
    "criterion = nn.MSELoss()\n",
    "optimizer = optim.Adam(autoencoder.parameters(), lr=0.001)\n",
    "\n",
    "# Prepare data for training\n",
    "embedding_tensors = torch.tensor(embeddings_flattened, dtype=torch.float32)\n",
    "dataset = TensorDataset(embedding_tensors, embedding_tensors)\n",
    "dataloader = DataLoader(dataset, batch_size=128, shuffle=True)\n",
    "\n",
    "# Train the Autoencoder\n",
    "num_epochs = 50\n",
    "for epoch in range(num_epochs):\n",
    "    for data in dataloader:\n",
    "        inputs, _ = data\n",
    "        outputs = autoencoder(inputs)\n",
    "        loss = criterion(outputs, inputs)\n",
    "        \n",
    "        optimizer.zero_grad()\n",
    "        loss.backward()\n",
    "        optimizer.step()\n",
    "        \n",
    "    print(f'Epoch [{epoch+1}/{num_epochs}], Loss: {loss.item():.4f}')\n",
    "\n",
    "# Calculate reconstruction error\n",
    "autoencoder.eval()\n",
    "with torch.no_grad():\n",
    "    reconstructions = autoencoder(embedding_tensors)\n",
    "    reconstruction_errors = torch.mean((embedding_tensors - reconstructions) ** 2, dim=1).numpy()\n",
    "\n",
    "# Determine anomaly threshold\n",
    "threshold = np.percentile(reconstruction_errors, 95)  # Example threshold at the 95th percentile\n",
    "anomalies = reconstruction_errors > threshold\n",
    "\n",
    "# Visualize reconstruction errors\n",
    "plt.hist(reconstruction_errors, bins=50)\n",
    "plt.xlabel('Reconstruction error')\n",
    "plt.ylabel('Number of samples')\n",
    "plt.show()\n",
    "\n",
    "# Evaluate performance\n",
    "predicted_anomalies = anomalies.astype(int)\n",
    "\n",
    "print(classification_report(labels, predicted_anomalies))\n",
    "print(confusion_matrix(labels, predicted_anomalies))\n",
    "print(\"ROC AUC Score:\", roc_auc_score(labels, reconstruction_errors))\n"
   ]
  },
  {
   "cell_type": "code",
   "execution_count": 101,
   "id": "52be705d-b797-4466-80ea-ee41d6a42564",
   "metadata": {},
   "outputs": [
    {
     "name": "stdout",
     "output_type": "stream",
     "text": [
      "Embeddings shape: (3188, 2000, 10)\n",
      "Labels shape: (3188,)\n",
      "PCA Embeddings shape: (3188, 500)\n",
      "Epoch [1/50], Loss: 6.3394\n",
      "Epoch [2/50], Loss: 6.1867\n",
      "Epoch [3/50], Loss: 6.1787\n",
      "Epoch [4/50], Loss: 6.1552\n",
      "Epoch [5/50], Loss: 6.1887\n",
      "Epoch [6/50], Loss: 6.1355\n",
      "Epoch [7/50], Loss: 6.1262\n",
      "Epoch [8/50], Loss: 6.0987\n",
      "Epoch [9/50], Loss: 6.2318\n",
      "Epoch [10/50], Loss: 6.1320\n",
      "Epoch [11/50], Loss: 6.1355\n",
      "Epoch [12/50], Loss: 6.0827\n",
      "Epoch [13/50], Loss: 6.1829\n",
      "Epoch [14/50], Loss: 6.1794\n",
      "Epoch [15/50], Loss: 5.9227\n",
      "Epoch [16/50], Loss: 6.0908\n",
      "Epoch [17/50], Loss: 6.1232\n",
      "Epoch [18/50], Loss: 6.0399\n",
      "Epoch [19/50], Loss: 6.0562\n",
      "Epoch [20/50], Loss: 6.0488\n",
      "Epoch [21/50], Loss: 5.9921\n",
      "Epoch [22/50], Loss: 6.0726\n",
      "Epoch [23/50], Loss: 6.0079\n",
      "Epoch [24/50], Loss: 6.0160\n",
      "Epoch [25/50], Loss: 6.1949\n",
      "Epoch [26/50], Loss: 5.9887\n",
      "Epoch [27/50], Loss: 5.9167\n",
      "Epoch [28/50], Loss: 6.0004\n",
      "Epoch [29/50], Loss: 5.8630\n",
      "Epoch [30/50], Loss: 6.0168\n",
      "Epoch [31/50], Loss: 5.9937\n",
      "Epoch [32/50], Loss: 5.8995\n",
      "Epoch [33/50], Loss: 5.9389\n",
      "Epoch [34/50], Loss: 5.9666\n",
      "Epoch [35/50], Loss: 5.9221\n",
      "Epoch [36/50], Loss: 5.8905\n",
      "Epoch [37/50], Loss: 5.9782\n",
      "Epoch [38/50], Loss: 5.9734\n",
      "Epoch [39/50], Loss: 5.9727\n",
      "Epoch [40/50], Loss: 5.9760\n",
      "Epoch [41/50], Loss: 5.7076\n",
      "Epoch [42/50], Loss: 6.0428\n",
      "Epoch [43/50], Loss: 5.9453\n",
      "Epoch [44/50], Loss: 6.0631\n",
      "Epoch [45/50], Loss: 6.0159\n",
      "Epoch [46/50], Loss: 5.9579\n",
      "Epoch [47/50], Loss: 5.9228\n",
      "Epoch [48/50], Loss: 6.0061\n",
      "Epoch [49/50], Loss: 5.9825\n",
      "Epoch [50/50], Loss: 5.9033\n"
     ]
    },
    {
     "data": {
      "image/png": "[encoded data removed]",
      "text/plain": [
       "<Figure size 640x480 with 1 Axes>"
      ]
     },
     "metadata": {},
     "output_type": "display_data"
    },
    {
     "name": "stdout",
     "output_type": "stream",
     "text": [
      "              precision    recall  f1-score   support\n",
      "\n",
      "         0.0       0.86      0.94      0.90      2756\n",
      "         1.0       0.01      0.00      0.00       432\n",
      "\n",
      "    accuracy                           0.81      3188\n",
      "   macro avg       0.43      0.47      0.45      3188\n",
      "weighted avg       0.74      0.81      0.78      3188\n",
      "\n",
      "[[2597  159]\n",
      " [ 431    1]]\n",
      "ROC AUC Score: 0.7044634097994947\n"
     ]
    }
   ],
   "source": [
    "### PCA\n",
    "import numpy as np\n",
    "from sklearn.decomposition import PCA\n",
    "import torch\n",
    "import torch.nn as nn\n",
    "import torch.optim as optim\n",
    "from torch.utils.data import DataLoader, TensorDataset\n",
    "import matplotlib.pyplot as plt\n",
    "from sklearn.metrics import classification_report, confusion_matrix, roc_auc_score\n",
    "\n",
    "# Load the embeddings and labels\n",
    "embeddings = np.load('data_points.npy')\n",
    "labels = np.load('labels.npy')\n",
    "\n",
    "print('Embeddings shape:', embeddings.shape)  # Should be (3188, 2000, 10)\n",
    "print('Labels shape:', labels.shape)  # Should be (3188,)\n",
    "\n",
    "# Flatten the embeddings\n",
    "embeddings_flattened = embeddings.reshape(embeddings.shape[0], -1)\n",
    "\n",
    "# Apply PCA\n",
    "pca = PCA(n_components=500)  # Reduce to 500 dimensions, adjust based on your needs\n",
    "embeddings_pca = pca.fit_transform(embeddings_flattened)\n",
    "\n",
    "print('PCA Embeddings shape:', embeddings_pca.shape)  # Should be (3188, 500)\n",
    "\n",
    "# Define the Autoencoder architecture\n",
    "class Autoencoder(nn.Module):\n",
    "    def __init__(self, input_dim, encoding_dim):\n",
    "        super(Autoencoder, self).__init__()\n",
    "        self.encoder = nn.Sequential(\n",
    "            nn.Linear(input_dim, encoding_dim),\n",
    "            nn.ReLU(True)\n",
    "        )\n",
    "        self.decoder = nn.Sequential(\n",
    "            nn.Linear(encoding_dim, input_dim),\n",
    "            nn.Sigmoid()\n",
    "        )\n",
    "\n",
    "    def forward(self, x):\n",
    "        x = self.encoder(x)\n",
    "        x = self.decoder(x)\n",
    "        return x\n",
    "\n",
    "input_dim = embeddings_pca.shape[1]\n",
    "encoding_dim = 128  # Adjust based on your needs\n",
    "\n",
    "autoencoder = Autoencoder(input_dim, encoding_dim)\n",
    "criterion = nn.MSELoss()\n",
    "optimizer = optim.Adam(autoencoder.parameters(), lr=0.001)\n",
    "\n",
    "# Prepare data for training\n",
    "embedding_tensors = torch.tensor(embeddings_pca, dtype=torch.float32)\n",
    "dataset = TensorDataset(embedding_tensors, embedding_tensors)\n",
    "dataloader = DataLoader(dataset, batch_size=256, shuffle=True)\n",
    "\n",
    "# Train the Autoencoder\n",
    "num_epochs = 50\n",
    "for epoch in range(num_epochs):\n",
    "    for data in dataloader:\n",
    "        inputs, _ = data\n",
    "        outputs = autoencoder(inputs)\n",
    "        loss = criterion(outputs, inputs)\n",
    "        \n",
    "        optimizer.zero_grad()\n",
    "        loss.backward()\n",
    "        optimizer.step()\n",
    "        \n",
    "    print(f'Epoch [{epoch+1}/{num_epochs}], Loss: {loss.item():.4f}')\n",
    "\n",
    "# Calculate reconstruction error\n",
    "autoencoder.eval()\n",
    "with torch.no_grad():\n",
    "    reconstructions = autoencoder(embedding_tensors)\n",
    "    reconstruction_errors = torch.mean((embedding_tensors - reconstructions) ** 2, dim=1).numpy()\n",
    "\n",
    "# Determine anomaly threshold\n",
    "threshold = np.percentile(reconstruction_errors, 95)  # Example threshold at the 95th percentile\n",
    "anomalies = reconstruction_errors > threshold\n",
    "\n",
    "# Visualize reconstruction errors\n",
    "plt.hist(reconstruction_errors, bins=50)\n",
    "plt.xlabel('Reconstruction error')\n",
    "plt.ylabel('Number of samples')\n",
    "plt.show()\n",
    "\n",
    "# Evaluate performance\n",
    "predicted_anomalies = anomalies.astype(int)\n",
    "\n",
    "print(classification_report(labels, predicted_anomalies))\n",
    "print(confusion_matrix(labels, predicted_anomalies))\n",
    "print(\"ROC AUC Score:\", roc_auc_score(labels, reconstruction_errors))\n",
    "\n",
    "\n"
   ]
  },
  {
   "cell_type": "code",
   "execution_count": null,
   "id": "9a70f864-9c7d-4558-a56a-b05ef1eec7c8",
   "metadata": {},
   "outputs": [
    {
     "name": "stdout",
     "output_type": "stream",
     "text": [
      "Embeddings shape: (3188, 2000, 10)\n",
      "Labels shape: (3188,)\n",
      "Flattened Embeddings shape: (3188, 20000)\n"
     ]
    }
   ],
   "source": [
    "### Sparse\n",
    "\n",
    "import numpy as np\n",
    "import torch\n",
    "import torch.nn as nn\n",
    "import torch.optim as optim\n",
    "from torch.utils.data import DataLoader, TensorDataset\n",
    "import matplotlib.pyplot as plt\n",
    "from sklearn.metrics import classification_report, confusion_matrix, roc_auc_score\n",
    "\n",
    "# Load the embeddings and labels\n",
    "embeddings = np.load('data_points.npy')\n",
    "labels = np.load('labels.npy')\n",
    "\n",
    "print('Embeddings shape:', embeddings.shape)  # Should be (3188, 2000, 10)\n",
    "print('Labels shape:', labels.shape)  # Should be (3188,)\n",
    "\n",
    "# Flatten the embeddings\n",
    "embeddings_flattened = embeddings.reshape(embeddings.shape[0], -1)\n",
    "print('Flattened Embeddings shape:', embeddings_flattened.shape)  # Should be (3188, 20000)\n",
    "\n",
    "# Define the Sparse Autoencoder architecture\n",
    "class SparseAutoencoder(nn.Module):\n",
    "    def __init__(self, input_dim, encoding_dim):\n",
    "        super(SparseAutoencoder, self).__init__()\n",
    "        self.encoder = nn.Sequential(\n",
    "            nn.Linear(input_dim, 1024),\n",
    "            nn.ReLU(True),\n",
    "            nn.Linear(1024, encoding_dim),\n",
    "            nn.ReLU(True)\n",
    "        )\n",
    "        self.decoder = nn.Sequential(\n",
    "            nn.Linear(encoding_dim, 1024),\n",
    "            nn.ReLU(True),\n",
    "            nn.Linear(1024, input_dim),\n",
    "            nn.Sigmoid()\n",
    "        )\n",
    "        \n",
    "\n",
    "    def forward(self, x):\n",
    "        x = self.encoder(x)\n",
    "        x = self.decoder(x)\n",
    "        return x\n",
    "\n",
    "    def loss_function(self, recon_x, x, sparsity_target=0.05, sparsity_weight=1e-3):\n",
    "        mse_loss = nn.MSELoss()(recon_x, x)\n",
    "        # L1 regularization\n",
    "        sparsity_loss = torch.mean(torch.abs(self.encoder[0].weight))\n",
    "        return mse_loss + sparsity_weight * sparsity_loss\n",
    "\n",
    "input_dim = embeddings_flattened.shape[1]\n",
    "encoding_dim = 128  # Adjust based on your needs\n",
    "\n",
    "sparse_autoencoder = SparseAutoencoder(input_dim, encoding_dim)\n",
    "optimizer = optim.Adam(sparse_autoencoder.parameters(), lr=0.001)\n",
    "\n",
    "# Prepare data for training\n",
    "embedding_tensors = torch.tensor(embeddings_flattened, dtype=torch.float32)\n",
    "dataset = TensorDataset(embedding_tensors, embedding_tensors)\n",
    "dataloader = DataLoader(dataset, batch_size=256, shuffle=True)\n",
    "\n",
    "# Train the Sparse Autoencoder\n",
    "num_epochs = 50\n",
    "for epoch in range(num_epochs):\n",
    "    for data in dataloader:\n",
    "        inputs, _ = data\n",
    "        outputs = sparse_autoencoder(inputs)\n",
    "        loss = sparse_autoencoder.loss_function(outputs, inputs)\n",
    "        \n",
    "        optimizer.zero_grad()\n",
    "        loss.backward()\n",
    "        optimizer.step()\n",
    "        \n",
    "    print(f'Epoch [{epoch+1}/{num_epochs}], Loss: {loss.item():.4f}')\n",
    "\n",
    "# Calculate reconstruction error\n",
    "sparse_autoencoder.eval()\n",
    "with torch.no_grad():\n",
    "    reconstructions = sparse_autoencoder(embedding_tensors)\n",
    "    reconstruction_errors = torch.mean((embedding_tensors - reconstructions) ** 2, dim=1).numpy()\n",
    "\n",
    "# Determine anomaly threshold\n",
    "threshold = np.percentile(reconstruction_errors, 95)  # Example threshold at the 95th percentile\n",
    "anomalies = reconstruction_errors > threshold\n",
    "\n",
    "# Visualize reconstruction errors\n",
    "plt.hist(reconstruction_errors, bins=50)\n",
    "plt.xlabel('Reconstruction error')\n",
    "plt.ylabel('Number of samples')\n",
    "plt.show()\n",
    "\n",
    "# Evaluate performance\n",
    "predicted_anomalies = anomalies.astype(int)\n",
    "\n",
    "print(classification_report(labels, predicted_anomalies))\n",
    "print(confusion_matrix(labels, predicted_anomalies))\n",
    "print(\"ROC AUC Score:\", roc_auc_score(labels, reconstruction_errors))\n"
   ]
  },
  {
   "cell_type": "code",
   "execution_count": 103,
   "id": "c446d7c9-8d98-42bd-a753-c59a53d35fc0",
   "metadata": {},
   "outputs": [
    {
     "name": "stdout",
     "output_type": "stream",
     "text": [
      "Embeddings shape: (3188, 2000, 10)\n",
      "Labels shape: (3188,)\n",
      "Flattened Embeddings shape: (3188, 20000)\n",
      "Epoch [1/50], Loss: nan\n",
      "Epoch [2/50], Loss: nan\n",
      "Epoch [3/50], Loss: nan\n",
      "Epoch [4/50], Loss: nan\n",
      "Epoch [5/50], Loss: nan\n"
     ]
    },
    {
     "ename": "KeyboardInterrupt",
     "evalue": "",
     "output_type": "error",
     "traceback": [
      "\u001b[0;31m---------------------------------------------------------------------------\u001b[0m",
      "\u001b[0;31mKeyboardInterrupt\u001b[0m                         Traceback (most recent call last)",
      "Cell \u001b[0;32mIn[103], line 72\u001b[0m\n\u001b[1;32m     69\u001b[0m     loss \u001b[38;5;241m=\u001b[39m sparse_autoencoder\u001b[38;5;241m.\u001b[39mloss_function(outputs, inputs, encoded)\n\u001b[1;32m     71\u001b[0m     optimizer\u001b[38;5;241m.\u001b[39mzero_grad()\n\u001b[0;32m---> 72\u001b[0m     loss\u001b[38;5;241m.\u001b[39mbackward()\n\u001b[1;32m     73\u001b[0m     optimizer\u001b[38;5;241m.\u001b[39mstep()\n\u001b[1;32m     75\u001b[0m \u001b[38;5;28mprint\u001b[39m(\u001b[38;5;124mf\u001b[39m\u001b[38;5;124m'\u001b[39m\u001b[38;5;124mEpoch [\u001b[39m\u001b[38;5;132;01m{\u001b[39;00mepoch\u001b[38;5;241m+\u001b[39m\u001b[38;5;241m1\u001b[39m\u001b[38;5;132;01m}\u001b[39;00m\u001b[38;5;124m/\u001b[39m\u001b[38;5;132;01m{\u001b[39;00mnum_epochs\u001b[38;5;132;01m}\u001b[39;00m\u001b[38;5;124m], Loss: \u001b[39m\u001b[38;5;132;01m{\u001b[39;00mloss\u001b[38;5;241m.\u001b[39mitem()\u001b[38;5;132;01m:\u001b[39;00m\u001b[38;5;124m.4f\u001b[39m\u001b[38;5;132;01m}\u001b[39;00m\u001b[38;5;124m'\u001b[39m)\n",
      "File \u001b[0;32m~/anaconda3/envs/backdoor-attack/lib/python3.11/site-packages/torch/_tensor.py:492\u001b[0m, in \u001b[0;36mTensor.backward\u001b[0;34m(self, gradient, retain_graph, create_graph, inputs)\u001b[0m\n\u001b[1;32m    482\u001b[0m \u001b[38;5;28;01mif\u001b[39;00m has_torch_function_unary(\u001b[38;5;28mself\u001b[39m):\n\u001b[1;32m    483\u001b[0m     \u001b[38;5;28;01mreturn\u001b[39;00m handle_torch_function(\n\u001b[1;32m    484\u001b[0m         Tensor\u001b[38;5;241m.\u001b[39mbackward,\n\u001b[1;32m    485\u001b[0m         (\u001b[38;5;28mself\u001b[39m,),\n\u001b[0;32m   (...)\u001b[0m\n\u001b[1;32m    490\u001b[0m         inputs\u001b[38;5;241m=\u001b[39minputs,\n\u001b[1;32m    491\u001b[0m     )\n\u001b[0;32m--> 492\u001b[0m torch\u001b[38;5;241m.\u001b[39mautograd\u001b[38;5;241m.\u001b[39mbackward(\n\u001b[1;32m    493\u001b[0m     \u001b[38;5;28mself\u001b[39m, gradient, retain_graph, create_graph, inputs\u001b[38;5;241m=\u001b[39minputs\n\u001b[1;32m    494\u001b[0m )\n",
      "File \u001b[0;32m~/anaconda3/envs/backdoor-attack/lib/python3.11/site-packages/torch/autograd/__init__.py:251\u001b[0m, in \u001b[0;36mbackward\u001b[0;34m(tensors, grad_tensors, retain_graph, create_graph, grad_variables, inputs)\u001b[0m\n\u001b[1;32m    246\u001b[0m     retain_graph \u001b[38;5;241m=\u001b[39m create_graph\n\u001b[1;32m    248\u001b[0m \u001b[38;5;66;03m# The reason we repeat the same comment below is that\u001b[39;00m\n\u001b[1;32m    249\u001b[0m \u001b[38;5;66;03m# some Python versions print out the first line of a multi-line function\u001b[39;00m\n\u001b[1;32m    250\u001b[0m \u001b[38;5;66;03m# calls in the traceback and some print out the last line\u001b[39;00m\n\u001b[0;32m--> 251\u001b[0m Variable\u001b[38;5;241m.\u001b[39m_execution_engine\u001b[38;5;241m.\u001b[39mrun_backward(  \u001b[38;5;66;03m# Calls into the C++ engine to run the backward pass\u001b[39;00m\n\u001b[1;32m    252\u001b[0m     tensors,\n\u001b[1;32m    253\u001b[0m     grad_tensors_,\n\u001b[1;32m    254\u001b[0m     retain_graph,\n\u001b[1;32m    255\u001b[0m     create_graph,\n\u001b[1;32m    256\u001b[0m     inputs,\n\u001b[1;32m    257\u001b[0m     allow_unreachable\u001b[38;5;241m=\u001b[39m\u001b[38;5;28;01mTrue\u001b[39;00m,\n\u001b[1;32m    258\u001b[0m     accumulate_grad\u001b[38;5;241m=\u001b[39m\u001b[38;5;28;01mTrue\u001b[39;00m,\n\u001b[1;32m    259\u001b[0m )\n",
      "\u001b[0;31mKeyboardInterrupt\u001b[0m: "
     ]
    }
   ],
   "source": [
    "import numpy as np\n",
    "import torch\n",
    "import torch.nn as nn\n",
    "import torch.optim as optim\n",
    "from torch.utils.data import DataLoader, TensorDataset\n",
    "import matplotlib.pyplot as plt\n",
    "from sklearn.metrics import classification_report, confusion_matrix, roc_auc_score\n",
    "\n",
    "# Load the embeddings and labels\n",
    "embeddings = np.load('data_points.npy')\n",
    "labels = np.load('labels.npy')\n",
    "\n",
    "print('Embeddings shape:', embeddings.shape)  # Should be (3188, 2000, 10)\n",
    "print('Labels shape:', labels.shape)  # Should be (3188,)\n",
    "\n",
    "# Flatten the embeddings\n",
    "embeddings_flattened = embeddings.reshape(embeddings.shape[0], -1)\n",
    "print('Flattened Embeddings shape:', embeddings_flattened.shape)  # Should be (3188, 20000)\n",
    "\n",
    "# Normalize the embeddings\n",
    "embeddings_normalized = (embeddings_flattened - np.mean(embeddings_flattened, axis=0)) / np.std(embeddings_flattened, axis=0)\n",
    "\n",
    "# Define the Sparse Autoencoder architecture with KL divergence and additional hidden layers\n",
    "class SparseAutoencoder(nn.Module):\n",
    "    def __init__(self, input_dim, encoding_dim, sparsity_target=0.05, sparsity_weight=1e-4):\n",
    "        super(SparseAutoencoder, self).__init__()\n",
    "        self.encoder = nn.Sequential(\n",
    "            nn.Linear(input_dim, 1024),\n",
    "            nn.ReLU(True),\n",
    "            nn.Linear(1024, encoding_dim),\n",
    "            nn.ReLU(True)\n",
    "        )\n",
    "        self.decoder = nn.Sequential(\n",
    "            nn.Linear(encoding_dim, 1024),\n",
    "            nn.ReLU(True),\n",
    "            nn.Linear(1024, input_dim),\n",
    "            nn.Sigmoid()\n",
    "        )\n",
    "        self.sparsity_target = sparsity_target\n",
    "        self.sparsity_weight = sparsity_weight\n",
    "\n",
    "    def forward(self, x):\n",
    "        encoded = self.encoder(x)\n",
    "        decoded = self.decoder(encoded)\n",
    "        return encoded, decoded\n",
    "\n",
    "    def kl_divergence(self, p, p_hat):\n",
    "        p_hat = torch.mean(p_hat, dim=0)\n",
    "        kl_div = p * torch.log(p / (p_hat + 1e-10)) + (1 - p) * torch.log((1 - p) / (1 - p_hat + 1e-10))\n",
    "        return torch.sum(kl_div)\n",
    "\n",
    "    def loss_function(self, recon_x, x, encoded):\n",
    "        mse_loss = nn.MSELoss()(recon_x, x)\n",
    "        kl_loss = self.kl_divergence(self.sparsity_target, encoded)\n",
    "        return mse_loss + self.sparsity_weight * kl_loss\n",
    "\n",
    "input_dim = embeddings_normalized.shape[1]\n",
    "encoding_dim = 128  # Adjust based on your needs\n",
    "sparsity_target = 0.05  # Desired average activation of the hidden units\n",
    "sparsity_weight = 1e-4  # Reduced weight of the sparsity penalty term\n",
    "\n",
    "sparse_autoencoder = SparseAutoencoder(input_dim, encoding_dim, sparsity_target, sparsity_weight)\n",
    "optimizer = optim.Adam(sparse_autoencoder.parameters(), lr=0.0001)\n",
    "\n",
    "# Prepare data for training\n",
    "embedding_tensors = torch.tensor(embeddings_normalized, dtype=torch.float32)\n",
    "dataset = TensorDataset(embedding_tensors, embedding_tensors)\n",
    "dataloader = DataLoader(dataset, batch_size=256, shuffle=True)\n",
    "\n",
    "# Train the Sparse Autoencoder\n",
    "num_epochs = 50\n",
    "for epoch in range(num_epochs):\n",
    "    for data in dataloader:\n",
    "        inputs, _ = data\n",
    "        encoded, outputs = sparse_autoencoder(inputs)\n",
    "        loss = sparse_autoencoder.loss_function(outputs, inputs, encoded)\n",
    "        \n",
    "        optimizer.zero_grad()\n",
    "        loss.backward()\n",
    "        optimizer.step()\n",
    "        \n",
    "    print(f'Epoch [{epoch+1}/{num_epochs}], Loss: {loss.item():.4f}')\n",
    "\n",
    "# Calculate reconstruction error\n",
    "sparse_autoencoder.eval()\n",
    "with torch.no_grad():\n",
    "    _, reconstructions = sparse_autoencoder(embedding_tensors)\n",
    "    reconstruction_errors = torch.mean((embedding_tensors - reconstructions) ** 2, dim=1).numpy()\n",
    "\n",
    "# Determine anomaly threshold\n",
    "threshold = np.percentile(reconstruction_errors, 95)  # Example threshold at the 95th percentile\n",
    "anomalies = reconstruction_errors > threshold\n",
    "\n",
    "# Visualize reconstruction errors\n",
    "plt.hist(reconstruction_errors, bins=50)\n",
    "plt.xlabel('Reconstruction error')\n",
    "plt.ylabel('Number of samples')\n",
    "plt.show()\n",
    "\n",
    "# Evaluate performance\n",
    "predicted_anomalies = anomalies.astype(int)\n",
    "\n",
    "print(classification_report(labels, predicted_anomalies))\n",
    "print(confusion_matrix(labels, predicted_anomalies))\n",
    "print(\"ROC AUC Score:\", roc_auc_score(labels, reconstruction_errors))\n"
   ]
  },
  {
   "cell_type": "code",
   "execution_count": null,
   "id": "4c32e707-9606-4fe8-95d9-56791b5faf43",
   "metadata": {},
   "outputs": [],
   "source": []
  },
  {
   "cell_type": "code",
   "execution_count": null,
   "id": "ab160ca7-a18f-4304-8f58-c68634a2deea",
   "metadata": {},
   "outputs": [],
   "source": []
  },
  {
   "cell_type": "code",
   "execution_count": null,
   "id": "720592e9-4446-46a9-9257-0699fd949d86",
   "metadata": {},
   "outputs": [],
   "source": []
  },
  {
   "cell_type": "code",
   "execution_count": null,
   "id": "660d238c-c3ca-4490-a50b-38519bf9ee14",
   "metadata": {},
   "outputs": [],
   "source": []
  },
  {
   "cell_type": "code",
   "execution_count": null,
   "id": "1cbad202-9eb8-41a5-b055-110d5e91e87f",
   "metadata": {},
   "outputs": [],
   "source": []
  },
  {
   "cell_type": "code",
   "execution_count": null,
   "id": "242b65ae-608b-46e3-b0eb-60eed09c91e5",
   "metadata": {},
   "outputs": [],
   "source": []
  },
  {
   "cell_type": "code",
   "execution_count": 94,
   "id": "12d863d9-1500-490e-adb9-1bc2ef3408f4",
   "metadata": {},
   "outputs": [
    {
     "name": "stdout",
     "output_type": "stream",
     "text": [
      "Number of PCA components: 10\n",
      "Explained variance ratio: 0.6591\n",
      "Precision: 0.0000\n",
      "Recall: 0.0000\n",
      "Accuracy: 0.8645\n",
      "False Positive Rate: 0.0000\n",
      "----------------------------------------\n"
     ]
    },
    {
     "name": "stderr",
     "output_type": "stream",
     "text": [
      "/home/binghui/anaconda3/envs/backdoor-attack/lib/python3.11/site-packages/sklearn/metrics/_classification.py:1517: UndefinedMetricWarning: Precision is ill-defined and being set to 0.0 due to no predicted samples. Use `zero_division` parameter to control this behavior.\n",
      "  _warn_prf(average, modifier, f\"{metric.capitalize()} is\", len(result))\n"
     ]
    },
    {
     "name": "stdout",
     "output_type": "stream",
     "text": [
      "Number of PCA components: 20\n",
      "Explained variance ratio: 0.6674\n",
      "Precision: 0.0000\n",
      "Recall: 0.0000\n",
      "Accuracy: 0.8645\n",
      "False Positive Rate: 0.0000\n",
      "----------------------------------------\n"
     ]
    },
    {
     "name": "stderr",
     "output_type": "stream",
     "text": [
      "/home/binghui/anaconda3/envs/backdoor-attack/lib/python3.11/site-packages/sklearn/metrics/_classification.py:1517: UndefinedMetricWarning: Precision is ill-defined and being set to 0.0 due to no predicted samples. Use `zero_division` parameter to control this behavior.\n",
      "  _warn_prf(average, modifier, f\"{metric.capitalize()} is\", len(result))\n"
     ]
    },
    {
     "name": "stdout",
     "output_type": "stream",
     "text": [
      "Number of PCA components: 50\n",
      "Explained variance ratio: 0.6845\n",
      "Precision: 0.0000\n",
      "Recall: 0.0000\n",
      "Accuracy: 0.8645\n",
      "False Positive Rate: 0.0000\n",
      "----------------------------------------\n"
     ]
    },
    {
     "name": "stderr",
     "output_type": "stream",
     "text": [
      "/home/binghui/anaconda3/envs/backdoor-attack/lib/python3.11/site-packages/sklearn/metrics/_classification.py:1517: UndefinedMetricWarning: Precision is ill-defined and being set to 0.0 due to no predicted samples. Use `zero_division` parameter to control this behavior.\n",
      "  _warn_prf(average, modifier, f\"{metric.capitalize()} is\", len(result))\n"
     ]
    },
    {
     "name": "stdout",
     "output_type": "stream",
     "text": [
      "Number of PCA components: 100\n",
      "Explained variance ratio: 0.7097\n",
      "Precision: 0.0000\n",
      "Recall: 0.0000\n",
      "Accuracy: 0.8645\n",
      "False Positive Rate: 0.0000\n",
      "----------------------------------------\n"
     ]
    },
    {
     "name": "stderr",
     "output_type": "stream",
     "text": [
      "/home/binghui/anaconda3/envs/backdoor-attack/lib/python3.11/site-packages/sklearn/metrics/_classification.py:1517: UndefinedMetricWarning: Precision is ill-defined and being set to 0.0 due to no predicted samples. Use `zero_division` parameter to control this behavior.\n",
      "  _warn_prf(average, modifier, f\"{metric.capitalize()} is\", len(result))\n"
     ]
    }
   ],
   "source": [
    "import numpy as np\n",
    "from sklearn.cluster import KMeans\n",
    "from sklearn.decomposition import PCA\n",
    "from sklearn.metrics import precision_score, recall_score, accuracy_score, confusion_matrix\n",
    "\n",
    "# Load the dataset\n",
    "data_points = np.load('data_points.npy')\n",
    "labels = np.load('labels.npy').astype(int)  # Ensure labels are integers\n",
    "\n",
    "# Flatten the data points\n",
    "n_samples, n_features1, n_features2 = data_points.shape\n",
    "flattened_data_points = data_points.reshape(n_samples, n_features1 * n_features2)\n",
    "\n",
    "# Apply PCA to reduce dimensionality\n",
    "for n_components in [10,20,50,100]:  # Test different numbers of components\n",
    "    pca = PCA(n_components=n_components)\n",
    "    reduced_data_points = pca.fit_transform(flattened_data_points)\n",
    "\n",
    "    print(f'Number of PCA components: {n_components}')\n",
    "    print(f'Explained variance ratio: {pca.explained_variance_ratio_.sum():.4f}')\n",
    "\n",
    "    # Apply KMeans clustering\n",
    "    kmeans = KMeans(n_clusters=2, random_state=38, n_init=10)  # Use multiple initializations\n",
    "    predicted_labels = kmeans.fit_predict(reduced_data_points)\n",
    "\n",
    "    # Since KMeans assigns arbitrary labels (0 or 1) to clusters, we need to map these to actual labels\n",
    "    def map_clusters_to_labels(true_labels, predicted_clusters):\n",
    "        label_map = {}\n",
    "        for cluster in np.unique(predicted_clusters):\n",
    "            cluster_indices = np.where(predicted_clusters == cluster)[0]\n",
    "            majority_label = np.argmax(np.bincount(true_labels[cluster_indices]))\n",
    "            label_map[cluster] = majority_label\n",
    "        return np.vectorize(label_map.get)(predicted_clusters)\n",
    "\n",
    "    # Map predicted clusters to actual labels\n",
    "    mapped_labels = map_clusters_to_labels(labels, predicted_labels)\n",
    "\n",
    "    # Calculate performance metrics\n",
    "    precision = precision_score(labels, mapped_labels)\n",
    "    recall = recall_score(labels, mapped_labels)\n",
    "    accuracy = accuracy_score(labels, mapped_labels)\n",
    "    conf_matrix = confusion_matrix(labels, mapped_labels)\n",
    "\n",
    "    # Handle cases where the confusion matrix has only one row or column\n",
    "    if conf_matrix.shape == (1, 1):\n",
    "        conf_matrix = np.array([[conf_matrix[0, 0], 0], [0, 0]])\n",
    "    elif conf_matrix.shape == (2, 1):\n",
    "        conf_matrix = np.array([[conf_matrix[0, 0], 0], [conf_matrix[1, 0], 0]])\n",
    "    elif conf_matrix.shape == (1, 2):\n",
    "        conf_matrix = np.array([[conf_matrix[0, 0], conf_matrix[0, 1]], [0, 0]])\n",
    "\n",
    "    false_positive_rate = conf_matrix[0][1] / (conf_matrix[0][1] + conf_matrix[0][0])\n",
    "\n",
    "    # Print performance metrics\n",
    "    print(f'Precision: {precision:.4f}')\n",
    "    print(f'Recall: {recall:.4f}')\n",
    "    print(f'Accuracy: {accuracy:.4f}')\n",
    "    print(f'False Positive Rate: {false_positive_rate:.4f}')\n",
    "    print('-' * 40)\n"
   ]
  },
  {
   "cell_type": "code",
   "execution_count": 95,
   "id": "c57f03fc-05df-4923-9757-b5a44dc13efc",
   "metadata": {},
   "outputs": [
    {
     "data": {
      "image/png": "[encoded data removed]",
      "text/plain": [
       "<Figure size 640x480 with 2 Axes>"
      ]
     },
     "metadata": {},
     "output_type": "display_data"
    },
    {
     "name": "stdout",
     "output_type": "stream",
     "text": [
      "Best Parameters: eps=0.2, min_samples=50\n",
      "Precision: 0.0000\n",
      "Recall: 0.0000\n",
      "Accuracy: 1.0000\n",
      "False Positive Rate: 0.0000\n",
      "True Positive (TP): 0\n",
      "True Negative (TN): 272\n",
      "False Positive (FP): 0\n",
      "False Negative (FN): 0\n",
      "Ratio TP: 0.0000\n",
      "Ratio TN: 1.0000\n",
      "Ratio FP: 0.0000\n",
      "Ratio FN: 0.0000\n"
     ]
    },
    {
     "name": "stderr",
     "output_type": "stream",
     "text": [
      "/home/binghui/anaconda3/envs/backdoor-attack/lib/python3.11/site-packages/sklearn/metrics/_classification.py:395: UserWarning: A single label was found in 'y_true' and 'y_pred'. For the confusion matrix to have the correct shape, use the 'labels' parameter to pass all known labels.\n",
      "  warnings.warn(\n"
     ]
    }
   ],
   "source": [
    "import numpy as np\n",
    "import matplotlib.pyplot as plt\n",
    "from sklearn.decomposition import PCA\n",
    "from sklearn.cluster import DBSCAN\n",
    "from sklearn.metrics import precision_score, recall_score, accuracy_score, confusion_matrix\n",
    "\n",
    "# Load the dataset\n",
    "data_points = np.load('data_points.npy')\n",
    "labels = np.load('labels.npy').astype(int)  # Ensure labels are integers\n",
    "\n",
    "# Flatten the data points\n",
    "n_samples, n_features1, n_features2 = data_points.shape\n",
    "flattened_data_points = data_points.reshape(n_samples, n_features1 * n_features2)\n",
    "\n",
    "# Apply PCA to reduce dimensionality\n",
    "pca = PCA(n_components=2)  # Reduce to 2 components for visualization\n",
    "reduced_data_points = pca.fit_transform(flattened_data_points)\n",
    "\n",
    "# Visualize the data\n",
    "plt.scatter(reduced_data_points[:, 0], reduced_data_points[:, 1], c=labels, cmap='viridis', s=5)\n",
    "plt.title('PCA-reduced Data Points')\n",
    "plt.xlabel('Principal Component 1')\n",
    "plt.ylabel('Principal Component 2')\n",
    "plt.colorbar()\n",
    "plt.show()\n",
    "\n",
    "# Parameter tuning for DBSCAN\n",
    "eps_values = [0.1, 0.2, 0.5, 1.0, 1.5]\n",
    "min_samples_values = [3, 5, 10, 50]\n",
    "\n",
    "best_precision = 0\n",
    "best_recall = 0\n",
    "best_accuracy = 0\n",
    "best_fpr = 0\n",
    "best_params = (0, 0)\n",
    "\n",
    "best_tp = 0\n",
    "best_tn = 0\n",
    "best_fp = 0\n",
    "best_fn = 0\n",
    "\n",
    "for eps in eps_values:\n",
    "    for min_samples in min_samples_values:\n",
    "        dbscan = DBSCAN(eps=eps, min_samples=min_samples)\n",
    "        predicted_labels = dbscan.fit_predict(reduced_data_points)\n",
    "\n",
    "        # Filter noise points\n",
    "        filtered_indices = predicted_labels != -1\n",
    "        if not np.any(filtered_indices):\n",
    "            continue\n",
    "\n",
    "        filtered_predicted_labels = predicted_labels[filtered_indices]\n",
    "        filtered_true_labels = labels[filtered_indices]\n",
    "\n",
    "        if len(filtered_predicted_labels) == 0:\n",
    "            continue\n",
    "\n",
    "        # Since DBSCAN assigns arbitrary labels to clusters, map these to actual labels\n",
    "        def map_clusters_to_labels(true_labels, predicted_clusters):\n",
    "            label_map = {}\n",
    "            for cluster in np.unique(predicted_clusters):\n",
    "                cluster_indices = np.where(predicted_clusters == cluster)[0]\n",
    "                majority_label = np.argmax(np.bincount(true_labels[cluster_indices]))\n",
    "                label_map[cluster] = majority_label\n",
    "            return np.vectorize(label_map.get)(predicted_clusters)\n",
    "\n",
    "        # Map predicted clusters to actual labels\n",
    "        mapped_labels = map_clusters_to_labels(filtered_true_labels, filtered_predicted_labels)\n",
    "\n",
    "        # Calculate performance metrics\n",
    "        precision = precision_score(filtered_true_labels, mapped_labels, zero_division=0)\n",
    "        recall = recall_score(filtered_true_labels, mapped_labels, zero_division=0)\n",
    "        accuracy = accuracy_score(filtered_true_labels, mapped_labels)\n",
    "        conf_matrix = confusion_matrix(filtered_true_labels, mapped_labels)\n",
    "\n",
    "        # Handle cases where the confusion matrix has only one row or column\n",
    "        if conf_matrix.shape == (1, 1):\n",
    "            conf_matrix = np.array([[conf_matrix[0, 0], 0], [0, 0]])\n",
    "        elif conf_matrix.shape == (2, 1):\n",
    "            conf_matrix = np.array([[conf_matrix[0, 0], 0], [conf_matrix[1, 0], 0]])\n",
    "        elif conf_matrix.shape == (1, 2):\n",
    "            conf_matrix = np.array([[conf_matrix[0, 0], conf_matrix[0, 1]], [0, 0]])\n",
    "\n",
    "        false_positive_rate = conf_matrix[0][1] / (conf_matrix[0][1] + conf_matrix[0][0])\n",
    "        \n",
    "        tn, fp, fn, tp = conf_matrix.ravel()\n",
    "\n",
    "        if accuracy > best_accuracy:\n",
    "            best_precision = precision\n",
    "            best_recall = recall\n",
    "            best_accuracy = accuracy\n",
    "            best_fpr = false_positive_rate\n",
    "            best_params = (eps, min_samples)\n",
    "            best_tp = tp\n",
    "            best_tn = tn\n",
    "            best_fp = fp\n",
    "            best_fn = fn\n",
    "\n",
    "# Print best performance metrics and parameters\n",
    "print(f'Best Parameters: eps={best_params[0]}, min_samples={best_params[1]}')\n",
    "print(f'Precision: {best_precision:.4f}')\n",
    "print(f'Recall: {best_recall:.4f}')\n",
    "print(f'Accuracy: {best_accuracy:.4f}')\n",
    "print(f'False Positive Rate: {best_fpr:.4f}')\n",
    "print(f'True Positive (TP): {best_tp}')\n",
    "print(f'True Negative (TN): {best_tn}')\n",
    "print(f'False Positive (FP): {best_fp}')\n",
    "print(f'False Negative (FN): {best_fn}')\n",
    "\n",
    "# Print ratios\n",
    "total = best_tp + best_tn + best_fp + best_fn\n",
    "print(f'Ratio TP: {best_tp / total:.4f}')\n",
    "print(f'Ratio TN: {best_tn / total:.4f}')\n",
    "print(f'Ratio FP: {best_fp / total:.4f}')\n",
    "print(f'Ratio FN: {best_fn / total:.4f}')\n"
   ]
  },
  {
   "cell_type": "code",
   "execution_count": 60,
   "id": "4a1c8e70-94ef-44e6-95d5-e38127bf7e54",
   "metadata": {},
   "outputs": [
    {
     "name": "stderr",
     "output_type": "stream",
     "text": [
      "/home/binghui/anaconda3/envs/backdoor-attack/lib/python3.11/site-packages/sklearn/manifold/_spectral_embedding.py:329: UserWarning: Graph is not fully connected, spectral embedding may not work as expected.\n",
      "  warnings.warn(\n"
     ]
    },
    {
     "name": "stdout",
     "output_type": "stream",
     "text": [
      "Precision: 0.5499\n",
      "Recall: 0.9995\n",
      "Accuracy: 0.5967\n",
      "False Positive Rate: 0.7945\n"
     ]
    }
   ],
   "source": [
    "import numpy as np\n",
    "import matplotlib.pyplot as plt\n",
    "from sklearn.cluster import SpectralClustering\n",
    "from sklearn.decomposition import PCA\n",
    "from sklearn.metrics import precision_score, recall_score, accuracy_score, confusion_matrix\n",
    "\n",
    "# Load the dataset\n",
    "data_points = np.load('data_points.npy')\n",
    "labels = np.load('labels.npy').astype(int)  # Ensure labels are integers\n",
    "\n",
    "# Flatten the data points\n",
    "n_samples, n_features1, n_features2 = data_points.shape\n",
    "flattened_data_points = data_points.reshape(n_samples, n_features1 * n_features2)\n",
    "\n",
    "# Apply PCA to reduce dimensionality\n",
    "pca = PCA(n_components=50)  # Adjust n_components based on your requirement\n",
    "reduced_data_points = pca.fit_transform(flattened_data_points)\n",
    "\n",
    "# Apply Spectral Clustering\n",
    "spectral = SpectralClustering(n_clusters=2, affinity='nearest_neighbors', random_state=42)\n",
    "predicted_labels = spectral.fit_predict(reduced_data_points)\n",
    "\n",
    "# Map predicted clusters to actual labels\n",
    "def map_clusters_to_labels(true_labels, predicted_clusters):\n",
    "    label_map = {}\n",
    "    for cluster in np.unique(predicted_clusters):\n",
    "        cluster_indices = np.where(predicted_clusters == cluster)[0]\n",
    "        majority_label = np.argmax(np.bincount(true_labels[cluster_indices]))\n",
    "        label_map[cluster] = majority_label\n",
    "    return np.vectorize(label_map.get)(predicted_clusters)\n",
    "\n",
    "# Map predicted clusters to actual labels\n",
    "mapped_labels = map_clusters_to_labels(labels, predicted_labels)\n",
    "\n",
    "# Calculate performance metrics\n",
    "precision = precision_score(labels, mapped_labels)\n",
    "recall = recall_score(labels, mapped_labels)\n",
    "accuracy = accuracy_score(labels, mapped_labels)\n",
    "conf_matrix = confusion_matrix(labels, mapped_labels)\n",
    "\n",
    "# Handle cases where the confusion matrix has only one row or column\n",
    "if conf_matrix.shape == (1, 1):\n",
    "    conf_matrix = np.array([[conf_matrix[0, 0], 0], [0, 0]])\n",
    "elif conf_matrix.shape == (2, 1):\n",
    "    conf_matrix = np.array([[conf_matrix[0, 0], 0], [conf_matrix[1, 0], 0]])\n",
    "elif conf_matrix.shape == (1, 2):\n",
    "    conf_matrix = np.array([[conf_matrix[0, 0], conf_matrix[0, 1]], [0, 0]])\n",
    "\n",
    "false_positive_rate = conf_matrix[0][1] / (conf_matrix[0][1] + conf_matrix[0][0])\n",
    "\n",
    "# Print performance metrics\n",
    "print(f'Precision: {precision:.4f}')\n",
    "print(f'Recall: {recall:.4f}')\n",
    "print(f'Accuracy: {accuracy:.4f}')\n",
    "print(f'False Positive Rate: {false_positive_rate:.4f}')\n"
   ]
  },
  {
   "cell_type": "code",
   "execution_count": 55,
   "id": "c3f00b59-2127-4c7b-b093-2c99b39b26dc",
   "metadata": {},
   "outputs": [
    {
     "name": "stdout",
     "output_type": "stream",
     "text": [
      "[0 1]\n",
      "Precision: 0.5955\n",
      "Recall: 0.9991\n",
      "Accuracy: 0.6653\n",
      "False Positive Rate: 0.6588\n"
     ]
    }
   ],
   "source": [
    "import numpy as np\n",
    "from sklearn.cluster import KMeans\n",
    "from sklearn.metrics import precision_score, recall_score, accuracy_score, confusion_matrix\n",
    "\n",
    "# Load the dataset\n",
    "data_points = np.load('data_points.npy')\n",
    "labels = np.load('labels.npy').astype(int)  # Ensure labels are integers\n",
    "print(np.unique(labels))\n",
    "# Flatten the data points\n",
    "n_samples, n_features1, n_features2 = data_points.shape\n",
    "flattened_data_points = data_points.reshape(n_samples, n_features1 * n_features2)\n",
    "\n",
    "# Apply KMeans clustering\n",
    "kmeans = KMeans(n_clusters=2, random_state=42)\n",
    "predicted_labels = kmeans.fit_predict(flattened_data_points)\n",
    "\n",
    "# Since KMeans assigns arbitrary labels (0 or 1) to clusters, we need to map these to actual labels\n",
    "# Here we assume that the majority label in each cluster determines the cluster's label\n",
    "def map_clusters_to_labels(true_labels, predicted_clusters):\n",
    "    label_map = {}\n",
    "    for cluster in np.unique(predicted_clusters):\n",
    "        cluster_indices = np.where(predicted_clusters == cluster)[0]\n",
    "        majority_label = np.argmax(np.bincount(true_labels[cluster_indices]))\n",
    "        label_map[cluster] = majority_label\n",
    "    return np.vectorize(label_map.get)(predicted_clusters)\n",
    "\n",
    "# Map predicted clusters to actual labels\n",
    "mapped_labels = map_clusters_to_labels(labels, predicted_labels)\n",
    "\n",
    "# Calculate performance metrics\n",
    "precision = precision_score(labels, mapped_labels)\n",
    "recall = recall_score(labels, mapped_labels)\n",
    "accuracy = accuracy_score(labels, mapped_labels)\n",
    "conf_matrix = confusion_matrix(labels, mapped_labels)\n",
    "\n",
    "# Handle cases where the confusion matrix has only one row or column\n",
    "if conf_matrix.shape == (1, 1):\n",
    "    conf_matrix = np.array([[conf_matrix[0, 0], 0], [0, 0]])\n",
    "elif conf_matrix.shape == (2, 1):\n",
    "    conf_matrix = np.array([[conf_matrix[0, 0], 0], [conf_matrix[1, 0], 0]])\n",
    "elif conf_matrix.shape == (1, 2):\n",
    "    conf_matrix = np.array([[conf_matrix[0, 0], conf_matrix[0, 1]], [0, 0]])\n",
    "\n",
    "false_positive_rate = conf_matrix[0][1] / (conf_matrix[0][1] + conf_matrix[0][0])\n",
    "\n",
    "# Print performance metrics\n",
    "print(f'Precision: {precision:.4f}')\n",
    "print(f'Recall: {recall:.4f}')\n",
    "print(f'Accuracy: {accuracy:.4f}')\n",
    "print(f'False Positive Rate: {false_positive_rate:.4f}')\n"
   ]
  },
  {
   "cell_type": "code",
   "execution_count": null,
   "id": "2ce8d368-c4fb-4ce5-b96d-b06ce043d7f1",
   "metadata": {},
   "outputs": [],
   "source": [
    "## DoS \n",
    "Number of PCA components: 10\n",
    "Explained variance ratio: 0.6027\n",
    "Precision: 0.9706\n",
    "Recall: 0.9977\n",
    "Accuracy: 0.9757\n",
    "False Positive Rate: 0.0897\n",
    "----------------------------------------\n",
    "Number of PCA components: 20\n",
    "Explained variance ratio: 0.6205\n",
    "Precision: 0.9706\n",
    "Recall: 0.9977\n",
    "Accuracy: 0.9757\n",
    "False Positive Rate: 0.0897\n",
    "----------------------------------------\n",
    "Number of PCA components: 50\n",
    "Explained variance ratio: 0.6680\n",
    "Precision: 0.9706\n",
    "Recall: 0.9977\n",
    "Accuracy: 0.9757\n",
    "False Positive Rate: 0.0897\n",
    "----------------------------------------\n",
    "Number of PCA components: 100\n",
    "Explained variance ratio: 0.7325\n",
    "Precision: 0.9706\n",
    "Recall: 0.9977\n",
    "Accuracy: 0.9757\n",
    "False Positive Rate: 0.0897\n",
    "----------------------------------------"
   ]
  },
  {
   "cell_type": "code",
   "execution_count": null,
   "id": "1f9ab41b-1bbc-4d99-a0cc-af57a74c40cd",
   "metadata": {},
   "outputs": [],
   "source": [
    "## BruteForce\n",
    "Number of PCA components: 10\n",
    "Explained variance ratio: 0.5127\n",
    "Precision: 0.9863\n",
    "Recall: 1.0000\n",
    "Accuracy: 0.9884\n",
    "False Positive Rate: 0.0694\n",
    "----------------------------------------\n",
    "Number of PCA components: 20\n",
    "Explained variance ratio: 0.5284\n",
    "Precision: 0.9863\n",
    "Recall: 1.0000\n",
    "Accuracy: 0.9884\n",
    "False Positive Rate: 0.0694\n",
    "----------------------------------------\n",
    "Number of PCA components: 50\n",
    "Explained variance ratio: 0.5673\n",
    "Precision: 0.9863\n",
    "Recall: 1.0000\n",
    "Accuracy: 0.9884\n",
    "False Positive Rate: 0.0694\n",
    "----------------------------------------\n",
    "Number of PCA components: 100\n",
    "Explained variance ratio: 0.6248\n",
    "Precision: 0.9863\n",
    "Recall: 1.0000\n",
    "Accuracy: 0.9884\n",
    "False Positive Rate: 0.0694\n",
    "\n",
    "\n",
    "\n"
   ]
  },
  {
   "cell_type": "code",
   "execution_count": null,
   "id": "55bb9dc3-3ec5-4e17-98ab-d6de5bbe829a",
   "metadata": {},
   "outputs": [],
   "source": [
    "### BotNeT\n",
    "\n",
    "Number of PCA components: 10\n",
    "Explained variance ratio: 0.4678\n",
    "Precision: 0.7698\n",
    "Recall: 0.9993\n",
    "Accuracy: 0.8099\n",
    "False Positive Rate: 0.5193\n",
    "----------------------------------------\n",
    "Number of PCA components: 20\n",
    "Explained variance ratio: 0.4779\n",
    "Precision: 0.7698\n",
    "Recall: 0.9993\n",
    "Accuracy: 0.8099\n",
    "False Positive Rate: 0.5193\n",
    "----------------------------------------\n",
    "Number of PCA components: 50\n",
    "Explained variance ratio: 0.4960\n",
    "Precision: 0.7698\n",
    "Recall: 0.9993\n",
    "Accuracy: 0.8099\n",
    "False Positive Rate: 0.5193\n",
    "----------------------------------------\n",
    "Number of PCA components: 100\n",
    "Explained variance ratio: 0.5244\n",
    "Precision: 0.7698\n",
    "Recall: 0.9993\n",
    "Accuracy: 0.8099\n",
    "False Positive Rate: 0.5193\n",
    "----------------------------------------"
   ]
  },
  {
   "cell_type": "code",
   "execution_count": null,
   "id": "451dc990-87f5-4029-831c-7ff69b1ccda3",
   "metadata": {},
   "outputs": [],
   "source": [
    "## Inflation\n",
    "\n",
    "Number of PCA components: 10\n",
    "Explained variance ratio: 0.4070\n",
    "Precision: 0.0000\n",
    "Recall: 0.0000\n",
    "Accuracy: 0.9995\n",
    "False Positive Rate: 0.0000\n",
    "----------------------------------------\n",
    "Number of PCA components: 20\n",
    "Explained variance ratio: 0.4226\n",
    "Precision: 0.0000\n",
    "Recall: 0.0000\n",
    "Accuracy: 0.9995\n",
    "False Positive Rate: 0.0000\n",
    "----------------------------------------\n",
    "\n",
    "Number of PCA components: 50\n",
    "Explained variance ratio: 0.4568\n",
    "Precision: 0.0000\n",
    "Recall: 0.0000\n",
    "Accuracy: 0.9995\n",
    "False Positive Rate: 0.0000\n",
    "----------------------------------------\n",
    "\n",
    "Number of PCA components: 100\n",
    "Explained variance ratio: 0.5074\n",
    "Precision: 0.0000\n",
    "Recall: 0.0000\n",
    "Accuracy: 0.9995\n",
    "False Positive Rate: 0.0000"
   ]
  },
  {
   "cell_type": "code",
   "execution_count": null,
   "id": "cabdce64-f143-4e65-a99b-051bc2c736cb",
   "metadata": {},
   "outputs": [],
   "source": [
    "## DDoS + Inflation\n",
    "\n",
    "Number of PCA components: 10\n",
    "Explained variance ratio: 0.4235\n",
    "Precision: 0.0000\n",
    "Recall: 0.0000\n",
    "Accuracy: 0.9985\n",
    "False Positive Rate: 0.0000\n",
    "----------------------------------------\n",
    "Number of PCA components: 20\n",
    "Explained variance ratio: 0.4386\n",
    "Precision: 0.0000\n",
    "Recall: 0.0000\n",
    "Accuracy: 0.9985\n",
    "False Positive Rate: 0.0000\n",
    "----------------------------------------\n",
    "Number of PCA components: 50\n",
    "Explained variance ratio: 0.4717\n",
    "Precision: 0.0000\n",
    "Recall: 0.0000\n",
    "Accuracy: 0.9985\n",
    "False Positive Rate: 0.0000\n",
    "----------------------------------------\n",
    "Number of PCA components: 100\n",
    "Explained variance ratio: 0.5207\n",
    "Precision: 0.0000\n",
    "Recall: 0.0000\n",
    "Accuracy: 0.9985\n",
    "False Positive Rate: 0.0000"
   ]
  },
  {
   "cell_type": "code",
   "execution_count": 59,
   "id": "7e8b9193-8976-416a-9ab5-f477d5598817",
   "metadata": {},
   "outputs": [
    {
     "ename": "SyntaxError",
     "evalue": "invalid syntax (459084572.py, line 1)",
     "output_type": "error",
     "traceback": [
      "\u001b[0;36m  Cell \u001b[0;32mIn[59], line 1\u001b[0;36m\u001b[0m\n\u001b[0;31m    Number of PCA components: 10\u001b[0m\n\u001b[0m           ^\u001b[0m\n\u001b[0;31mSyntaxError\u001b[0m\u001b[0;31m:\u001b[0m invalid syntax\n"
     ]
    }
   ],
   "source": [
    "\n",
    "## BotNet + infliation \n",
    "Number of PCA components: 10\n",
    "Explained variance ratio: 0.4510\n",
    "Precision: 0.5951\n",
    "Recall: 0.9991\n",
    "Accuracy: 0.6658\n",
    "False Positive Rate: 0.6554\n",
    "----------------------------------------\n",
    "Number of PCA components: 20\n",
    "Explained variance ratio: 0.4659\n",
    "Precision: 0.5951\n",
    "Recall: 0.9991\n",
    "Accuracy: 0.6658\n",
    "False Positive Rate: 0.6554\n",
    "----------------------------------------\n",
    "Number of PCA components: 50\n",
    "Explained variance ratio: 0.4840\n",
    "Precision: 0.5951\n",
    "Recall: 0.9991\n",
    "Accuracy: 0.6658\n",
    "False Positive Rate: 0.6554\n",
    "----------------------------------------\n",
    "Number of PCA components: 100\n",
    "Explained variance ratio: 0.5108\n",
    "Precision: 0.5951\n",
    "Recall: 0.9991\n",
    "Accuracy: 0.6658\n",
    "False Positive Rate: 0.6554\n",
    "----------------------------------------\n",
    "\n",
    "\n",
    "Another \n",
    "\n",
    "Best Parameters: eps=0.2, min_samples=3\n",
    "Precision: 0.7673\n",
    "Recall: 0.9976\n",
    "Accuracy: 0.8328\n",
    "False Positive Rate: 0.3672\n"
   ]
  },
  {
   "cell_type": "code",
   "execution_count": null,
   "id": "cfc1034e-a5e0-4920-b9c5-12725e6afde1",
   "metadata": {},
   "outputs": [],
   "source": [
    "#"
   ]
  }
 ],
 "metadata": {
  "kernelspec": {
   "display_name": "Python 3 (ipykernel)",
   "language": "python",
   "name": "python3"
  },
  "language_info": {
   "codemirror_mode": {
    "name": "ipython",
    "version": 3
   },
   "file_extension": ".py",
   "mimetype": "text/x-python",
   "name": "python",
   "nbconvert_exporter": "python",
   "pygments_lexer": "ipython3",
   "version": "3.11.7"
  }
 },
 "nbformat": 4,
 "nbformat_minor": 5
}
