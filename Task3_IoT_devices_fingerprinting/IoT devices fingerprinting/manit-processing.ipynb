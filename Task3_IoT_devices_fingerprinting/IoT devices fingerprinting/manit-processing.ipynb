{
 "cells": [
  {
   "cell_type": "code",
   "execution_count": 3,
   "id": "5a4e3820-ba73-4f84-87a2-2c5c02fa4bf7",
   "metadata": {},
   "outputs": [],
   "source": [
    "import torch\n",
    "import torch.nn as nn\n",
    "import pandas as pd\n",
    "import numpy as np\n",
    "import torch.nn.functional as F\n",
    "import matplotlib.pyplot as plt\n",
    "from torch import Tensor\n",
    "from torchsummary import summary\n",
    "import random\n",
    "from numpy import load\n",
    "from tqdm import tqdm, trange\n",
    "from torch.nn import CrossEntropyLoss\n",
    "from torch.optim import Adam\n",
    "from torch.utils.data import Dataset, DataLoader\n",
    "import pickle\n",
    "import os\n"
   ]
  },
  {
   "cell_type": "code",
   "execution_count": 4,
   "id": "e504a10b-abab-45f1-b33b-6d29951f16db",
   "metadata": {},
   "outputs": [
    {
     "name": "stdout",
     "output_type": "stream",
     "text": [
      "Using device:  cuda (NVIDIA GeForce RTX 4080)\n"
     ]
    }
   ],
   "source": [
    "# check the availability of cuda\n",
    "device = torch.device(\"cuda\" if torch.cuda.is_available() else \"cpu\")\n",
    "print(\"Using device: \", device, f\"({torch.cuda.get_device_name(device)})\" if torch.cuda.is_available() else \"\")"
   ]
  },
  {
   "cell_type": "code",
   "execution_count": 5,
   "id": "aedef897-3b4f-496b-a326-49a44dd88001",
   "metadata": {},
   "outputs": [
    {
     "name": "stdout",
     "output_type": "stream",
     "text": [
      "shape of train windws: (1071459, 200, 8)\n",
      "shape of train labels: (1071459, 1, 28)\n",
      "shape of test windows: (267865, 200, 8)\n",
      "shape of test labels: (267865, 1, 28)\n"
     ]
    }
   ],
   "source": [
    "def load_data_make_split(npz_file, train_percentage):\n",
    "    \"\"\"\n",
    "    Load training data (windows + one-hot labels) from compressed file. Split data into train and test set\n",
    "    Arguments:\n",
    "        - npz_file: The path to the *.npz file\n",
    "        - train_percentage: the percentage of data used for training (and not testing), e.g. 0.8\n",
    "    Returns:\n",
    "        A 4-tuple of train and test data with labels: (x_train, y_train, x_test, y_test)\n",
    "    \"\"\"\n",
    "    dict_data = load(npz_file)\n",
    "    x = dict_data['x']\n",
    "    y = dict_data['y']\n",
    "    train_length = int(len(x)*train_percentage)\n",
    "    x_train = x[:train_length]\n",
    "    y_train = y[:train_length]\n",
    "    x_test = x[train_length:]\n",
    "    y_test = y[train_length:]\n",
    "    return (x_train, y_train, x_test, y_test)\n",
    "\n",
    "# test load_data_make_split()\n",
    "x_train, y_train, x_test, y_test = load_data_make_split(\"update_new_feature_all_days_all_devices.npz\", 0.8)\n",
    "print(\"shape of train windws: {}\".format(x_train.shape))\n",
    "print(\"shape of train labels: {}\".format(y_train.shape))\n",
    "print(\"shape of test windows: {}\".format(x_test.shape))\n",
    "print(\"shape of test labels: {}\".format(y_test.shape))"
   ]
  },
  {
   "cell_type": "code",
   "execution_count": 6,
   "id": "dfdb44ad-6972-4cf9-8c44-6379a7fc698a",
   "metadata": {},
   "outputs": [
    {
     "name": "stdout",
     "output_type": "stream",
     "text": [
      "[(24, 12041), (15, 12270), (6, 14034), (14, 15738), (2, 34720), (0, 36454), (27, 55804), (7, 61729), (1, 67218), (4, 68597), (10, 102906), (19, 111726), (22, 197876), (23, 228604), (5, 275855)]\n"
     ]
    }
   ],
   "source": []
  },
  {
   "cell_type": "code",
   "execution_count": 7,
   "id": "b8fd66ac-a71a-41d5-a7e0-a1ae5fe4f9ae",
   "metadata": {},
   "outputs": [
    {
     "ename": "AttributeError",
     "evalue": "'list' object has no attribute 'shape'",
     "output_type": "error",
     "traceback": [
      "\u001b[0;31m---------------------------------------------------------------------------\u001b[0m",
      "\u001b[0;31mAttributeError\u001b[0m                            Traceback (most recent call last)",
      "Cell \u001b[0;32mIn[7], line 1\u001b[0m\n\u001b[0;32m----> 1\u001b[0m all_labels\u001b[38;5;241m.\u001b[39mshape\n",
      "\u001b[0;31mAttributeError\u001b[0m: 'list' object has no attribute 'shape'"
     ]
    }
   ],
   "source": []
  },
  {
   "cell_type": "code",
   "execution_count": null,
   "id": "9d921db4-2332-4f0f-9a08-a8ee24ba4d01",
   "metadata": {},
   "outputs": [],
   "source": []
  }
 ],
 "metadata": {
  "kernelspec": {
   "display_name": "Python 3 (ipykernel)",
   "language": "python",
   "name": "python3"
  },
  "language_info": {
   "codemirror_mode": {
    "name": "ipython",
    "version": 3
   },
   "file_extension": ".py",
   "mimetype": "text/x-python",
   "name": "python",
   "nbconvert_exporter": "python",
   "pygments_lexer": "ipython3",
   "version": "3.11.7"
  }
 },
 "nbformat": 4,
 "nbformat_minor": 5
}
